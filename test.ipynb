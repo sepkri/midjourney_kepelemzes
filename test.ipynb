{
 "cells": [
  {
   "cell_type": "code",
   "execution_count": 2,
   "id": "0afe73cb-a5ab-40c1-92b3-6d8729181fa7",
   "metadata": {},
   "outputs": [],
   "source": [
    "import cv2\n",
    "import numpy as np\n",
    "from sklearn.cluster import KMeans\n",
    "import matplotlib.pyplot as plt\n",
    "from matplotlib.colors import hsv_to_rgb\n",
    "from PIL import Image"
   ]
  },
  {
   "cell_type": "code",
   "execution_count": 33,
   "id": "a3280568-71c9-4f63-a4cd-984bbc974106",
   "metadata": {},
   "outputs": [],
   "source": [
    "import os\n",
    "import json"
   ]
  },
  {
   "cell_type": "code",
   "execution_count": 16,
   "id": "2cde0bb6-985b-49b0-a07b-035ad8d989d5",
   "metadata": {},
   "outputs": [],
   "source": [
    "lookup = {\n",
    "    (0,0): 'UL',\n",
    "    (0,1): 'UR',\n",
    "    (1,0): 'LL',\n",
    "    (1,1): 'LR'\n",
    "}"
   ]
  },
  {
   "cell_type": "code",
   "execution_count": 34,
   "id": "922ef373-12c9-436b-81ec-00dc57eea99d",
   "metadata": {},
   "outputs": [],
   "source": [
    "def run(input_path):\n",
    "    \n",
    "    res = {}\n",
    "    \n",
    "    for root, subdirs, files in os.walk(input_path):\n",
    "        for f in files:\n",
    "            img = cv2.imread(os.path.join(root,f))\n",
    "            if img is not None:\n",
    "                size = int(len(img)/2)\n",
    "                res[os.path.join(root,f)] = {}\n",
    "                for x in [0,1]:\n",
    "                    for y in [0,1]:\n",
    "                        img_part = img[x*size:(x+1)*size, y*size:(y+1)*size]\n",
    "                        res[os.path.join(root,f)][lookup[(x,y)]] = get_warmness(img_part)\n",
    "                        \n",
    "    with open('results.json', 'w') as fp:\n",
    "        json.dump(res, fp)"
   ]
  },
  {
   "cell_type": "code",
   "execution_count": 1,
   "id": "1990afb7-0fe7-41f4-bb5f-bcf90d4bb570",
   "metadata": {},
   "outputs": [],
   "source": [
    "def get_warmness(img):\n",
    "\n",
    "    # Convert to LAB color space\n",
    "    lab_img = cv2.cvtColor(img, cv2.COLOR_BGR2LAB)\n",
    "\n",
    "    # Extract the a and b channels\n",
    "    a_channel = lab_img[:, :, 1]\n",
    "    b_channel = lab_img[:, :, 2]\n",
    "\n",
    "    # Calculate the mean values of the a and b channels\n",
    "    a_mean = np.mean(a_channel)\n",
    "    b_mean = np.mean(b_channel)\n",
    "    \n",
    "    stddev_a = np.std(a_channel)\n",
    "    stddev_b = np.std(b_channel)\n",
    "\n",
    "    # Calculate the warmness of the image\n",
    "    warmness = np.sqrt(b_mean**2 + a_mean**2)\n",
    "\n",
    "    return warmness"
   ]
  },
  {
   "cell_type": "code",
   "execution_count": 28,
   "id": "ccca5aa8-ee0c-4f14-8da9-5f21ddbd1d2d",
   "metadata": {},
   "outputs": [],
   "source": [
    "def showimage(img):\n",
    "    cv2.imshow('t',cv2.resize(img, (512,512)))\n",
    "    cv2.waitKey(0)\n",
    "    return 0"
   ]
  },
  {
   "cell_type": "code",
   "execution_count": 3,
   "id": "30c5d015-0caa-4b35-aca3-c430765b5f35",
   "metadata": {},
   "outputs": [],
   "source": [
    "img = cv2.imread(\"test.png\")\n",
    "size = int(len(img)/2)"
   ]
  },
  {
   "cell_type": "code",
   "execution_count": 6,
   "id": "f601226e-b4e2-4085-8525-b6dc4a9e4986",
   "metadata": {},
   "outputs": [
    {
     "name": "stdout",
     "output_type": "stream",
     "text": [
      "201.09324911867978\n",
      "180.05594218910514\n",
      "181.49559780768507\n",
      "201.2620623866167\n"
     ]
    }
   ],
   "source": []
  },
  {
   "cell_type": "code",
   "execution_count": null,
   "id": "6d018824-b46d-45e3-abd1-401e02c9aea0",
   "metadata": {},
   "outputs": [],
   "source": []
  }
 ],
 "metadata": {
  "kernelspec": {
   "display_name": "Python [conda env:main]",
   "language": "python",
   "name": "conda-env-main-py"
  },
  "language_info": {
   "codemirror_mode": {
    "name": "ipython",
    "version": 3
   },
   "file_extension": ".py",
   "mimetype": "text/x-python",
   "name": "python",
   "nbconvert_exporter": "python",
   "pygments_lexer": "ipython3",
   "version": "3.10.6"
  }
 },
 "nbformat": 4,
 "nbformat_minor": 5
}
